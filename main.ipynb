{
 "cells": [
  {
   "cell_type": "markdown",
   "metadata": {},
   "source": [
    "# In this notebook, I am going to implement a deep network from numpy\n",
    "\n"
   ]
  },
  {
   "cell_type": "code",
   "execution_count": 1,
   "metadata": {
    "collapsed": true
   },
   "outputs": [],
   "source": [
    "# Python Standard Library struct and array\n",
    "# for dealing with reading dataset from file\n",
    "import struct\n",
    "from array import array\n",
    "from time import time\n",
    "\n",
    "# Numpy for calculating\n",
    "import numpy as np\n",
    "\n",
    "# To draw the training and dev cost value curve\n",
    "import matplotlib.pyplot as plt\n",
    "%matplotlib inline\n",
    "\n",
    "# Test Cases\n",
    "import test\n",
    "\n",
    "# Some Useful Helper Functions\n",
    "import helper"
   ]
  },
  {
   "cell_type": "markdown",
   "metadata": {},
   "source": [
    "# Part 1. Preparing Data\n",
    "\n",
    "## Load MNIST Dataset"
   ]
  },
  {
   "cell_type": "code",
   "execution_count": 2,
   "metadata": {
    "collapsed": true
   },
   "outputs": [],
   "source": [
    "def load_mnist():\n",
    "    \"\"\" \n",
    "    load MNIST dataset into numpy array \n",
    "    MNIST dataset can be downloaded manually.\n",
    "    url: http://yann.lecun.com/exdb/mnist/\n",
    "    \"\"\"\n",
    "    ret = {}\n",
    "    with open('MNIST/train-images.idx3-ubyte', 'rb') as f:\n",
    "        magic, size, rows, cols = struct.unpack(\">IIII\", f.read(16))\n",
    "        assert(magic==2051)\n",
    "        ret['X_train'] = np.array(array(\"B\", f.read())).reshape(size,rows,cols)\n",
    "\n",
    "    with open('MNIST/t10k-images.idx3-ubyte', 'rb') as f:\n",
    "        magic, size, rows, cols = struct.unpack(\">IIII\", f.read(16))\n",
    "        assert(magic==2051)\n",
    "        ret['X_test'] = np.array(array(\"B\", f.read())).reshape(size,rows,cols)\n",
    "\n",
    "    with open('MNIST/train-labels.idx1-ubyte', 'rb') as f:\n",
    "        magic, size = struct.unpack(\">II\", f.read(8))\n",
    "        assert(magic==2049)\n",
    "        ret['Y_train'] = np.array(array(\"B\", f.read())).reshape(size,1)\n",
    "\n",
    "    with open('MNIST/t10k-labels.idx1-ubyte', 'rb') as f:\n",
    "        magic, size = struct.unpack(\">II\", f.read(8))\n",
    "        assert(magic==2049)\n",
    "        ret['Y_test'] = np.array(array(\"B\", f.read())).reshape(size,1)\n",
    "\n",
    "    return ret"
   ]
  },
  {
   "cell_type": "markdown",
   "metadata": {},
   "source": [
    "## Shuffle and divide the dataset"
   ]
  },
  {
   "cell_type": "code",
   "execution_count": 3,
   "metadata": {
    "collapsed": true
   },
   "outputs": [],
   "source": [
    "def shuffle_divide_dataset( dataset, len_of_dev=10000 ):\n",
    "    \"\"\"\n",
    "    Shuffle and divide the dataset\n",
    "    \n",
    "    len_of_dev: 10,000 is a reasonable number for dev set.\n",
    "                Dev dataset with this size is big enough to measure variance problem.\n",
    "    \"\"\"       \n",
    "    assert('X_train' in dataset)\n",
    "    assert(len(dataset)==4)\n",
    "    \n",
    "    \"\"\" random shuffle the training set \"\"\"\n",
    "    np.random.seed(1)\n",
    "    permutation = np.random.permutation(dataset['X_train'].shape[0])\n",
    "    dataset['X_train'] = dataset['X_train'][permutation]\n",
    "    dataset['Y_train'] = dataset['Y_train'][permutation]\n",
    "\n",
    "    \"\"\" divide trainset into trainset and devset \"\"\"\n",
    "    dataset['X_dev'] = dataset['X_train'][:len_of_dev]\n",
    "    dataset['Y_dev'] = dataset['Y_train'][:len_of_dev]\n",
    "    dataset['X_train'] = dataset['X_train'][len_of_dev:]\n",
    "    dataset['Y_train'] = dataset['Y_train'][len_of_dev:]\n",
    "\n",
    "    return dataset"
   ]
  },
  {
   "cell_type": "markdown",
   "metadata": {},
   "source": [
    "## Manually check the dataset by random visualize some of them"
   ]
  },
  {
   "cell_type": "code",
   "execution_count": 4,
   "metadata": {
    "collapsed": true
   },
   "outputs": [],
   "source": [
    "def manually_validate_mnist_dataset(dataset):\n",
    "    \"\"\"Manually check the dataset by random visualize some of them\"\"\"\n",
    "    random_train = np.random.randint(1, len(dataset['X_train']))-1\n",
    "    random_dev = np.random.randint(1, len(dataset['X_dev']))-1\n",
    "    random_test = np.random.randint(1, len(dataset['X_test']))-1\n",
    "    print(dataset['Y_train'][random_train], dataset['Y_dev'][random_dev], dataset['Y_test'][random_test])\n",
    "    fig, (ax1, ax2, ax3) = plt.subplots(1,3, sharey=True, figsize=[10,3])\n",
    "    ax1.imshow(dataset['X_train'][random_train], cmap='gray')\n",
    "    ax2.imshow(dataset['X_dev'][random_dev], cmap='gray')\n",
    "    mappable = ax3.imshow(dataset['X_test'][random_test], cmap='gray')\n",
    "    fig.colorbar(mappable)\n",
    "    plt.show()"
   ]
  },
  {
   "cell_type": "markdown",
   "metadata": {},
   "source": [
    "## Standardize the dataset\n",
    "\n",
    "$$\n",
    "z = \\frac{x - \\mu}{\\sigma}\n",
    "$$\n",
    "\n",
    "#### Notice: the MNIST gray images have a lot of areas of black (0), relatively few areas of white(255), so the standardization has a result of roughly (-0.4, 2.8).\n",
    "#### Maybe we can also use divide 256 to scale the dataset."
   ]
  },
  {
   "cell_type": "code",
   "execution_count": 5,
   "metadata": {
    "collapsed": true
   },
   "outputs": [],
   "source": [
    "def standardize( dataset ):\n",
    "    \"\"\"use standard sccore to normalize input dataset\"\"\"\n",
    "    assert('X_train' in dataset)\n",
    "    mu = np.mean(dataset['X_train'], keepdims=False)\n",
    "    sigma = np.std(dataset['X_train'], keepdims=False)\n",
    "    for key, val in dataset.items():\n",
    "        if key[:2]=='X_':\n",
    "            dataset[key] = ( dataset[key] - mu ) / sigma\n",
    "    return dataset"
   ]
  },
  {
   "cell_type": "markdown",
   "metadata": {},
   "source": [
    "## Preprocess dataset into vectors\n",
    "#### Notice: Andrew's course use the format of vector above, but tensorflow does it in it's transpose way.\n",
    "## Flat Images(X) into vectors, and stack them into matrix\n",
    "\n",
    "#### Input Format: X (m, width, height); Output Format:\n",
    "$$ X = \n",
    "\\begin{bmatrix}\n",
    "\\vert & & \\vert & & \\vert \\\\\n",
    "x^{(1)} & ... & x^{(i)} & ... & x^{(m)} \\\\\n",
    "\\vert & & \\vert & & \\vert\n",
    "\\end{bmatrix} \n",
    "$$"
   ]
  },
  {
   "cell_type": "code",
   "execution_count": 6,
   "metadata": {
    "collapsed": true
   },
   "outputs": [],
   "source": [
    "def flat_stack( dataset ):\n",
    "    \"\"\"input dataset format: (m, width, height)\"\"\"\n",
    "    for key, val in dataset.items():\n",
    "        if key[:2]=='X_':\n",
    "            width = dataset[key].shape[1]\n",
    "            height = dataset[key].shape[2]\n",
    "            dataset[key] = dataset[key].reshape(-1, width*height).T\n",
    "    return dataset"
   ]
  },
  {
   "cell_type": "markdown",
   "metadata": {},
   "source": [
    "## One hot encode Labels(Y)\n",
    "#### Input Format: Y (m, label_number); output Format:\n",
    "$$\n",
    "Y = \n",
    "\\begin{bmatrix}\n",
    "\\vert & & \\vert & & \\vert \\\\\n",
    "y_{one\\_hot}^{(1)} & ... & y_{one\\_hot}^{(i)} & ... & y_{one\\_hot}^{(m)} \\\\\n",
    "\\vert & & \\vert & & \\vert \\\\\n",
    "\\end{bmatrix}\n",
    "$$\n"
   ]
  },
  {
   "cell_type": "code",
   "execution_count": 7,
   "metadata": {
    "collapsed": true
   },
   "outputs": [],
   "source": [
    "def one_hot( dataset ):\n",
    "    min_label_number = np.min(dataset['Y_train'], keepdims=False)\n",
    "    max_label_number = np.max(dataset['Y_train'], keepdims=False)\n",
    "    C = max_label_number - min_label_number + 1\n",
    "    for key, val in dataset.items():\n",
    "        if key[:2]=='Y_':\n",
    "            # all label number should be trained in Y_train\n",
    "            assert(min_label_number <= np.min(dataset[key], keepdims=False))\n",
    "            assert(max_label_number >= np.max(dataset[key], keepdims=False))\n",
    "            Y = dataset[key]\n",
    "            Y_onehot = np.zeros((C, Y.shape[0]))\n",
    "            Y_onehot[Y.reshape(-1).astype(int), np.arange(Y.shape[0])] = 1\n",
    "            dataset[key] = Y_onehot\n",
    "    return dataset\n",
    "\n",
    "def back_one_hot(Y_onehot):\n",
    "    \"\"\" This is an inverse function of one hot, in case we need to interpret the result. \"\"\"\n",
    "    Y = np.repeat( [np.arange(Y_onehot.shape[0])], repeats=Y_onehot.shape[1], axis=0 )\n",
    "    assert(Y.shape == Y_onehot.T.shape)\n",
    "    Y = Y[Y_onehot.T.astype(bool)]\n",
    "    return Y.reshape(-1,1)"
   ]
  },
  {
   "cell_type": "markdown",
   "metadata": {},
   "source": [
    "## Init cache, parameters, hyper_parameters\n",
    "\n",
    "**cache** is used for store results in steps, such as Z1, A1, Z2, A2 and so on.\n",
    "\n",
    "**parameters** are the model itself, consist of W and b, which can be adjusted during training.\n",
    "\n",
    "**hyper_parameters** are the settings for training.\n",
    "\n",
    "_(I am still thinking should the structure of the network be a parameter? Or should there be structure, parameters, training conditions?)_"
   ]
  },
  {
   "cell_type": "code",
   "execution_count": 8,
   "metadata": {
    "collapsed": true
   },
   "outputs": [],
   "source": [
    "def init(X_size, hidden_layers=[10,10,5], C=10, learning_rate=0.01, regularization=0.1):\n",
    "    \"\"\" init cache, parameters and hyper_parameters \"\"\"\n",
    "    global cache, parameters, hyper_parameters\n",
    "    cache = {}\n",
    "    parameters = {}\n",
    "    hyper_parameters = {}\n",
    "\n",
    "    \"\"\" init hyper_parameters \"\"\"\n",
    "    hyper_parameters['X_size'] = X_size\n",
    "    # layers of network, include the last softmax layer\n",
    "    # hidden layers use ReLU activation function, and the last layer use Softmax function\n",
    "    hyper_parameters['layers'] = hidden_layers + [C]\n",
    "    # L layers in total\n",
    "    hyper_parameters['L'] = len(hyper_parameters['layers'])\n",
    "    # Class numbers 0-9 is 10\n",
    "    hyper_parameters['C'] = C\n",
    "    hyper_parameters['learning_rate'] = learning_rate\n",
    "    hyper_parameters['regularization'] = regularization\n",
    "    # tiny_float to avoid divide by zero\n",
    "    hyper_parameters['tiny_float'] = 1e-7\n",
    "    \n",
    "    \"\"\" init W b or any other parameters in every layer \"\"\"\n",
    "    layers = hyper_parameters['layers']\n",
    "    x_size = hyper_parameters['X_size']\n",
    "    cells_prev = x_size\n",
    "    for layer_idx, cells in enumerate(layers):\n",
    "        parameters['W'+str(layer_idx+1)] = np.random.randn(cells, cells_prev) * 0.01\n",
    "        parameters['b'+str(layer_idx+1)] = np.zeros((cells, 1))\n",
    "        cells_prev = layers[layer_idx]"
   ]
  },
  {
   "cell_type": "markdown",
   "metadata": {
    "collapsed": true
   },
   "source": [
    "# Part 2. Neural Network calculations\n",
    "\n",
    "## Core calculation functions and their backpropagations\n",
    "_(I cannot split the backpropagation into seperated independent steps, since I cannot understand Matrix-by-Matrix derivatives.)_\n",
    "\n",
    "_(For example, the linear matrix function: $Y=WX+B$. What is $\\frac{\\partial Y}{\\partial X}$? I assume that will be a four-rank tensor, but I cannot understand that.)_\n"
   ]
  },
  {
   "cell_type": "markdown",
   "metadata": {},
   "source": [
    "$$\n",
    "ReLu = max(0, x)\n",
    "$$\n",
    "***\n",
    "$$\n",
    "\\frac{\\partial Loss}{\\partial Z} = \n",
    "\\frac{\\partial Loss}{\\partial A} \\cdot \\frac{\\partial A}{\\partial Z} =\n",
    "\\frac{\\partial Loss}{\\partial A} \\cdot (Z >= 0)\n",
    "$$"
   ]
  },
  {
   "cell_type": "code",
   "execution_count": 9,
   "metadata": {
    "collapsed": true
   },
   "outputs": [],
   "source": [
    "def relu(Z):\n",
    "    A = Z * ( Z>=0 )\n",
    "    return A\n",
    "def relu_backpropagation(Z, A, dL_dA):\n",
    "    \"\"\" No need for A \"\"\"\n",
    "    dL_dZ = np.multiply(dL_dA, (Z>=0).astype(np.float32))\n",
    "    return dL_dZ"
   ]
  },
  {
   "cell_type": "markdown",
   "metadata": {},
   "source": [
    "$$\n",
    "Softmax = \\frac{\\exp(Z)}{\\sum_i^n{\\exp(Z)}}\n",
    "$$\n",
    "***\n",
    "$$\n",
    "\\frac{\\partial Loss}{\\partial Z} = \n",
    "\\frac{\\partial Loss}{\\partial A} \\cdot \\frac{\\partial A}{\\partial Z} =\n",
    "\\frac{\\partial Loss}{\\partial A} \\cdot (A-A^2)\n",
    "$$"
   ]
  },
  {
   "cell_type": "code",
   "execution_count": 10,
   "metadata": {
    "collapsed": true
   },
   "outputs": [],
   "source": [
    "def softmax(Z):\n",
    "    exp_Z = np.exp(Z)\n",
    "    A = exp_Z / np.sum(exp_Z, axis=0)\n",
    "    return A\n",
    "def softmax_backpropagation(Z, A, dL_dA):\n",
    "    \"\"\" No need for Z \"\"\"\n",
    "    dL_dZ = np.multiply(dL_dA, (A-np.power(A,2)))\n",
    "    return dL_dZ"
   ]
  },
  {
   "cell_type": "markdown",
   "metadata": {},
   "source": [
    "$$\n",
    "Z = W A_{prev} + B\n",
    "$$\n",
    "***\n",
    "$$\n",
    "\\frac{\\partial Loss}{\\partial A_{prev}} = \n",
    "\\frac{\\partial Loss}{\\partial Z} \\cdot \\frac{\\partial Z}{\\partial A_{prev}} =\n",
    "\\frac{\\partial Loss}{\\partial Z} \\cdot A_{prev}^{\\intercal}\n",
    "$$\n",
    "\n",
    "$$\n",
    "\\frac{\\partial Loss}{\\partial W} = \n",
    "\\frac{\\partial Loss}{\\partial Z} \\cdot \\frac{\\partial Z}{\\partial W} =\n",
    "W^\\intercal \\cdot \\frac{\\partial Loss}{\\partial Z}\n",
    "$$\n",
    "\n",
    "$$\n",
    "\\frac{\\partial Loss}{\\partial B} = \n",
    "\\frac{\\partial Loss}{\\partial Z} \\cdot \\frac{\\partial Z}{\\partial B} =\n",
    "\\frac{\\partial Loss}{\\partial Z} \\cdot 1\n",
    "$$"
   ]
  },
  {
   "cell_type": "code",
   "execution_count": 11,
   "metadata": {
    "collapsed": true
   },
   "outputs": [],
   "source": [
    "def linear(A_prev, W, B):\n",
    "    Z = np.dot(W, A_prev) + B\n",
    "    return Z\n",
    "def linear_backpropagation(A_prev, W, B, dL_dZ):\n",
    "    \"\"\" No need for B \"\"\"\n",
    "    m = dL_dZ.shape[1] # I still don't know why move 1/m here from backpropagate_cost.\n",
    "    dL_dA_prev = np.dot(W.T, dL_dZ)\n",
    "    dL_dW = 1/m * np.dot(dL_dZ, A_prev.T)\n",
    "    dL_db = 1/m * np.sum(dL_dZ, axis=1).reshape(-1,1)\n",
    "    return dL_dA_prev, dL_dW, dL_db"
   ]
  },
  {
   "cell_type": "markdown",
   "metadata": {},
   "source": [
    "$$\n",
    "Loss = -\\frac{1}{m} \\sum_i^m \\sum_j^C {(y_j^{(i)}\\log(\\hat{y}_j^{(i)}) + (1-y_j^{(i)})\\log(1-\\hat{y}_j^{(i)}))}\n",
    "$$\n",
    "#### Notice: if I omit the 1e-10 thing, the A should reach 0.0 or 1.0, therefore the result of log or divide will give a runtime error."
   ]
  },
  {
   "cell_type": "code",
   "execution_count": 12,
   "metadata": {
    "collapsed": true
   },
   "outputs": [],
   "source": [
    "def loss(A, Y):\n",
    "    \"\"\" where A is Y_hat, loss is L in every dL \"\"\"\n",
    "    cost = np.multiply(Y, np.log(A+1e-10)) + np.multiply(1-Y, np.log(1 - A+1e-10))\n",
    "    loss = -np.mean(np.sum(cost, axis=0), keepdims=False)\n",
    "    return loss\n",
    "def loss_backpropagation(A, Y):\n",
    "    dL_dA = - (np.divide(Y, A+1e-10) - np.divide(1 - Y, 1 - A+1e-10))\n",
    "    return dL_dA"
   ]
  },
  {
   "cell_type": "markdown",
   "metadata": {},
   "source": [
    "$$\n",
    "accuracy = \\frac{\\sum_i^m (y^{[i]}==\\hat{y}^{[i]})}{m}\n",
    "$$"
   ]
  },
  {
   "cell_type": "code",
   "execution_count": 13,
   "metadata": {
    "collapsed": true
   },
   "outputs": [],
   "source": [
    "def predict(Y_hat):\n",
    "    return np.argmax(Y_hat, axis=0).reshape(-1,1)\n",
    "\n",
    "def accuracy(Y_predict, Y):\n",
    "    return np.sum(np.equal(Y_predict, back_one_hot(Y))) / Y_predict.shape[0]"
   ]
  },
  {
   "cell_type": "markdown",
   "metadata": {},
   "source": [
    "$$\n",
    "Loss_{reg} = Loss + \\frac{\\lambda}{2}(\\sum_l^L W^{[l] \\intercal} \\cdot W^{[l]})\n",
    "$$\n",
    "\n",
    "$$\n",
    "\\Delta \\frac{\\partial L}{\\partial W^{[l]}} = \\frac{\\lambda}{m}W^{[l]}\n",
    "$$"
   ]
  },
  {
   "cell_type": "code",
   "execution_count": 14,
   "metadata": {
    "collapsed": true
   },
   "outputs": [],
   "source": [
    "def loss_with_regularization(loss):\n",
    "    global parameters, hyper_parameters\n",
    "    if hyper_parameters['regularization']==0:\n",
    "        return loss\n",
    "    s = 0\n",
    "    for i in range(hyper_parameters['L']):\n",
    "        L = str(i+1)\n",
    "        s += np.sum(np.mean(np.dot(parameters['W'+L].T, parameters['W'+L]), axis=1), keepdims=False)\n",
    "    \n",
    "    loss += hyper_parameters['regularization'] / 2 * s\n",
    "    return loss\n",
    "\n",
    "def dL_dW_incremental_with_regularization(L):\n",
    "    global cache, parameters, hyper_parameters\n",
    "    if hyper_parameters['regularization']==0:\n",
    "        return 0\n",
    "    m = cache['Z1'].shape[1]\n",
    "    return hyper_parameters['regularization'] * parameters['W'+L] / m"
   ]
  },
  {
   "cell_type": "markdown",
   "metadata": {},
   "source": [
    "# Part 3. Neural network logic\n",
    "\n",
    "```\n",
    "Init all parameters ---> forward propagation ---+---> compute loss\n",
    "                     ^            +             |\n",
    "                     |            |             +---> compute accuracy\n",
    "                     |            v\n",
    "                     |     back propagation\n",
    "                     |            +\n",
    "                     |            |\n",
    "                     |            v\n",
    "                     |     update parameters\n",
    "                     |            +\n",
    "                     |            |\n",
    "                     +------------+\n",
    "```"
   ]
  },
  {
   "cell_type": "code",
   "execution_count": 15,
   "metadata": {
    "collapsed": true
   },
   "outputs": [],
   "source": [
    "\"\"\" neural network logic level \"\"\"\n",
    "\n",
    "def forwardpropagation_all(X, Y):\n",
    "    global cache, parameters, hyper_parameters\n",
    "    layers = hyper_parameters['layers']\n",
    "    A_prev = X\n",
    "    for layer_idx, cells in enumerate(layers):\n",
    "        W = parameters['W'+str(layer_idx+1)]\n",
    "        b = parameters['b'+str(layer_idx+1)]\n",
    "        Z = linear(A_prev, W, b)\n",
    "        if layer_idx==len(layers)-1:\n",
    "            # Last layer's activation function should be softmax\n",
    "            A = softmax(Z)\n",
    "        else:\n",
    "            A = relu(Z)\n",
    "        cache['Z'+str(layer_idx+1)] = Z\n",
    "        cache['A'+str(layer_idx+1)] = A\n",
    "        A_prev = A\n",
    "    return loss_with_regularization(loss(A, Y))\n",
    "\n",
    "def backpropagate_all(X, Y):\n",
    "    global cache, parameters, hyper_parameters\n",
    "    # 1. Last layer has coss function and softmax function\n",
    "    L = str(hyper_parameters['L'])\n",
    "    cache['dA'+L] = loss_backpropagation(cache['A'+L], Y)\n",
    "    AL = cache['A'+L]\n",
    "    dAL = cache['dA'+L]\n",
    "    cache['dZ'+L] = softmax_backpropagation(None, AL, dAL)\n",
    "\n",
    "    # 2. Layers in between are similar: linear and ReLU\n",
    "    for i in np.arange(start=hyper_parameters['L']-1, stop=0, step=-1):\n",
    "        L = str(i)\n",
    "        cache['dA'+L], cache['dW'+str(i+1)], cache['db'+str(i+1)] = \\\n",
    "        linear_backpropagation(cache['A'+L], parameters['W'+str(i+1)], None, cache['dZ'+str(i+1)])\n",
    "        cache['dZ'+L] = relu_backpropagation(cache['Z'+L], None, cache['dA'+L])\n",
    "\n",
    "    # 3. First layer has different parameter.\n",
    "    t = time()\n",
    "    _, cache['dW1'], cache['db1'] = linear_backpropagation(X, parameters['W1'], None, cache['dZ1'])\n",
    "    timer['tmp'] += time()-t\n",
    "\n",
    "def update_parameters():\n",
    "    global cache, parameters\n",
    "    for i in range(hyper_parameters['L']):\n",
    "        L = str(i+1)\n",
    "        parameters['W'+L] -= (cache['dW'+L]+ dL_dW_incremental_with_regularization(L)) * hyper_parameters['learning_rate']        \n",
    "        parameters['b'+L] -= cache['db'+L] * hyper_parameters['learning_rate']"
   ]
  },
  {
   "cell_type": "code",
   "execution_count": 16,
   "metadata": {
    "collapsed": true
   },
   "outputs": [],
   "source": [
    "def model(X_train, Y_train, X_dev, Y_dev, \n",
    "          learning_rate=0.01, print_every=100, iteration=500, \n",
    "          hidden_layers=[100], batch_size=128, regularization=0):\n",
    "    \n",
    "    init(hidden_layers=hidden_layers, C=Y_train.shape[0], X_size=X_train.shape[0], \n",
    "         learning_rate=learning_rate, regularization=regularization)\n",
    "    \n",
    "    # losses will be returned for plotting\n",
    "    losses = [[],[],[],[]]\n",
    "    m = X_train.shape[1]\n",
    "    step = 0\n",
    "    np.random.seed(1)\n",
    "    t0 = time()\n",
    "    for i in range(iteration):\n",
    "        permutation = np.random.permutation(m)\n",
    "        X_permutated = X_train[:, permutation]\n",
    "        Y_permutated = Y_train[:, permutation]\n",
    "        for j in range( m // batch_size ):\n",
    "            X = X_permutated[:, j*batch_size:(j+1)*batch_size]\n",
    "            Y = Y_permutated[:, j*batch_size:(j+1)*batch_size]\n",
    "            if X.shape[1]==batch_size:\n",
    "                t = time()\n",
    "                loss_value = forwardpropagation_all(X, Y)\n",
    "                timer['forwardpropagation_all'] += time()-t\n",
    "                losses[0].append(loss_value)\n",
    "                losses[1].append(step)\n",
    "                t = time()\n",
    "                backpropagate_all(X, Y)\n",
    "                timer['backpropagate_all'] += time()-t\n",
    "                t = time()\n",
    "                update_parameters()\n",
    "                timer['update_parameters'] += time()-t\n",
    "                \n",
    "                if step%print_every==0:\n",
    "                    Y_hat = cache['A'+str(hyper_parameters['L'])]\n",
    "                    Y_predict = predict(Y_hat)\n",
    "                    accu = accuracy(Y_predict, Y)\n",
    "\n",
    "                    loss_dev_value = forwardpropagation_all(X_dev, Y_dev)\n",
    "                    Y_hat_dev = cache['A'+str(hyper_parameters['L'])]\n",
    "                    losses[2].append(loss_dev_value)\n",
    "                    losses[3].append(step)\n",
    "                    Y_predict_dev = predict(Y_hat_dev)\n",
    "                    accu_dev = accuracy(Y_predict_dev, Y_dev)\n",
    "\n",
    "                    print(step,'>',i,'-th iter, training loss = ',loss_value,'; accu_train = ',accu)\n",
    "                    print(' > dev loss = ',loss_dev_value,'; accu_dev = ', accu_dev)\n",
    "                step += 1\n",
    "                \n",
    "            else:\n",
    "                print(\"Batch_Size ERROR!!!\")\n",
    "        if np.isnan(loss_value):\n",
    "            print(\"ERROR to nan!!!\")\n",
    "            break\n",
    "    timer['total'] = time() - t0\n",
    "    return losses"
   ]
  },
  {
   "cell_type": "markdown",
   "metadata": {},
   "source": [
    "# Run"
   ]
  },
  {
   "cell_type": "code",
   "execution_count": 19,
   "metadata": {},
   "outputs": [
    {
     "name": "stdout",
     "output_type": "stream",
     "text": [
      "0 > 0 -th iter, training loss =  3.25148105444 ; accu_train =  0.171875\n",
      " > dev loss =  3.24787931303 ; accu_dev =  0.0994\n",
      "400 > 0 -th iter, training loss =  0.526907145796 ; accu_train =  0.90625\n",
      " > dev loss =  0.405185749369 ; accu_dev =  0.93\n",
      "800 > 1 -th iter, training loss =  0.161732741339 ; accu_train =  0.96875\n",
      " > dev loss =  0.290992617632 ; accu_dev =  0.9498\n",
      "1200 > 1 -th iter, training loss =  0.0553791380761 ; accu_train =  1.0\n",
      " > dev loss =  0.204445636661 ; accu_dev =  0.9662\n",
      "1600 > 2 -th iter, training loss =  0.115765936277 ; accu_train =  0.984375\n",
      " > dev loss =  0.191407358802 ; accu_dev =  0.9658\n",
      "2000 > 2 -th iter, training loss =  0.321134005337 ; accu_train =  0.96875\n",
      " > dev loss =  0.185684879835 ; accu_dev =  0.9683\n",
      "2400 > 3 -th iter, training loss =  0.212927292581 ; accu_train =  0.96875\n",
      " > dev loss =  0.161517727563 ; accu_dev =  0.9723\n",
      "2800 > 3 -th iter, training loss =  0.0221132073942 ; accu_train =  1.0\n",
      " > dev loss =  0.147732874362 ; accu_dev =  0.9742\n",
      "3200 > 4 -th iter, training loss =  0.0570597715542 ; accu_train =  0.984375\n",
      " > dev loss =  0.150481000278 ; accu_dev =  0.9743\n",
      "3600 > 4 -th iter, training loss =  0.108341540245 ; accu_train =  0.96875\n",
      " > dev loss =  0.138029205175 ; accu_dev =  0.9768\n",
      "4000 > 5 -th iter, training loss =  0.0553970849336 ; accu_train =  0.984375\n",
      " > dev loss =  0.140574453956 ; accu_dev =  0.9771\n",
      "4400 > 5 -th iter, training loss =  0.0193642785681 ; accu_train =  1.0\n",
      " > dev loss =  0.125718326902 ; accu_dev =  0.9793\n",
      "4800 > 6 -th iter, training loss =  0.0258928411317 ; accu_train =  1.0\n",
      " > dev loss =  0.130945095288 ; accu_dev =  0.979\n",
      "5200 > 6 -th iter, training loss =  0.0251022169335 ; accu_train =  1.0\n",
      " > dev loss =  0.131094640992 ; accu_dev =  0.9789\n",
      "5600 > 7 -th iter, training loss =  0.0150337945608 ; accu_train =  1.0\n",
      " > dev loss =  0.130249155811 ; accu_dev =  0.9796\n",
      "6000 > 7 -th iter, training loss =  0.0393741468678 ; accu_train =  1.0\n",
      " > dev loss =  0.123508163519 ; accu_dev =  0.9797\n",
      "6400 > 8 -th iter, training loss =  0.0213354848285 ; accu_train =  1.0\n",
      " > dev loss =  0.123449054965 ; accu_dev =  0.9811\n",
      "6800 > 8 -th iter, training loss =  0.0106488801678 ; accu_train =  1.0\n",
      " > dev loss =  0.127918644951 ; accu_dev =  0.9796\n",
      "7200 > 9 -th iter, training loss =  0.0112592452952 ; accu_train =  1.0\n",
      " > dev loss =  0.130299572448 ; accu_dev =  0.9811\n",
      "7600 > 9 -th iter, training loss =  0.00172645831733 ; accu_train =  1.0\n",
      " > dev loss =  0.128092816774 ; accu_dev =  0.9808\n"
     ]
    },
    {
     "data": {
      "image/png": "[encoded data removed]",
      "text/plain": [
       "<matplotlib.figure.Figure at 0x7fc4351e96d8>"
      ]
     },
     "metadata": {},
     "output_type": "display_data"
    },
    {
     "name": "stdout",
     "output_type": "stream",
     "text": [
      "{'total': 114.05971622467041, 'update_parameters': 24.177534580230713, 'forwardpropagation_all': 28.848888874053955, 'backpropagate_all': 52.24351382255554, 'tmp': 21.835800170898438}\n"
     ]
    }
   ],
   "source": [
    "timer = {'forwardpropagation_all':0, 'backpropagate_all':0, 'update_parameters':0, 'tmp':0}\n",
    "\n",
    "def test_model():\n",
    "    \"\"\"test model using random data\"\"\"\n",
    "    m = 10\n",
    "    X = np.random.randn(784,m)\n",
    "    Y = one_hot(np.random.randint(low=0, high=10, size=(m,1)), C=10)\n",
    "    #print(X[:,1])\n",
    "    #print(Y[:,1])\n",
    "    costs = model(X,Y,learning_rate=0.1, print_every=10, iteration=100,\n",
    "                 hidden_layers=[10,10])\n",
    "    plt.plot(costs[1], costs[0])\n",
    "    plt.show()\n",
    "    \n",
    "def main():\n",
    "    \"\"\"test model using real MNIST dataset\"\"\"\n",
    "    mnist = load_mnist()\n",
    "    mnist = shuffle_divide_dataset(mnist)\n",
    "    mnist = standardize(mnist)\n",
    "    mnist = flat_stack(mnist)\n",
    "    mnist = one_hot(mnist)\n",
    "    \n",
    "    costs = \\\n",
    "    model(mnist['X_train'], mnist['Y_train'], mnist['X_dev'], mnist['Y_dev'],\n",
    "                  learning_rate=0.1, print_every=400, iteration=10,\n",
    "                  batch_size=64, regularization=0,\n",
    "                  hidden_layers=[784,784])\n",
    "    \n",
    "    plt.plot(costs[1], costs[0])\n",
    "    plt.plot(costs[3], costs[2])\n",
    "    plt.title(\"Cost Value\")\n",
    "    plt.show()\n",
    "    \n",
    "    print(timer)\n",
    "    \n",
    "main()"
   ]
  },
  {
   "cell_type": "code",
   "execution_count": null,
   "metadata": {
    "collapsed": true
   },
   "outputs": [],
   "source": []
  }
 ],
 "metadata": {
  "kernelspec": {
   "display_name": "Python [conda root]",
   "language": "python",
   "name": "conda-root-py"
  },
  "language_info": {
   "codemirror_mode": {
    "name": "ipython",
    "version": 3
   },
   "file_extension": ".py",
   "mimetype": "text/x-python",
   "name": "python",
   "nbconvert_exporter": "python",
   "pygments_lexer": "ipython3",
   "version": "3.5.2"
  }
 },
 "nbformat": 4,
 "nbformat_minor": 2
}
