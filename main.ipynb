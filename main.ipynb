{
 "cells": [
  {
   "cell_type": "markdown",
   "metadata": {},
   "source": [
    "# Todo list\n",
    "\n",
    "1. one_hot √\n",
    "\n",
    "* mini-batch\n",
    "\n",
    "* normalization\n",
    "\n",
    "* train/dev/test set √\n",
    "\n",
    "* linear function √\n",
    "\n",
    "* sigmoid function\n",
    "\n",
    "* tanh function\n",
    "\n",
    "* relu function √\n",
    "\n",
    "* softmax function √\n",
    "\n",
    "* loss function √\n",
    "\n",
    "* cost function ?\n",
    "\n",
    "* regularization\n",
    "\n",
    "* drop out\n",
    "\n",
    "* batch normalization\n",
    "\n",
    "* momentum\n",
    "\n",
    "* exponentially moving average\n",
    "\n",
    "* Adam\n",
    "\n",
    "* all backpropagation of above"
   ]
  },
  {
   "cell_type": "code",
   "execution_count": 1,
   "metadata": {
    "collapsed": true
   },
   "outputs": [],
   "source": [
    "import numpy as np\n",
    "import matplotlib.pyplot as plt\n",
    "%matplotlib inline\n",
    "from test import *"
   ]
  },
  {
   "cell_type": "code",
   "execution_count": 2,
   "metadata": {
    "collapsed": true
   },
   "outputs": [],
   "source": [
    "from pprint import pprint\n",
    "\"\"\" helper functions \"\"\"\n",
    "def names_in(dictionary):\n",
    "    \"\"\" list all names in a dictionary \"\"\"\n",
    "    print([name for name,_ in sorted(dictionary.items())])\n",
    "def names_shape_in(dictionary):\n",
    "    pprint([(name, val.shape) for name,val in sorted(dictionary.items())])\n",
    "\n",
    "def debug_show_all_variables():\n",
    "    print(\"cache: \", end='')\n",
    "    names_shape_in(cache)\n",
    "    print(\"parameters: \", end='')\n",
    "    names_shape_in(parameters)\n",
    "    print(\"hyper_parameters: \", end='')\n",
    "    names_in(hyper_parameters)"
   ]
  },
  {
   "cell_type": "code",
   "execution_count": 3,
   "metadata": {
    "collapsed": true
   },
   "outputs": [],
   "source": [
    "def load_mnist():\n",
    "    import struct\n",
    "    from array import array\n",
    "    \"\"\" \n",
    "    load MNIST dataset into numpy array \n",
    "    MNIST dataset can be downloaded manually.\n",
    "    url: http://yann.lecun.com/exdb/mnist/\n",
    "    \"\"\"\n",
    "    ret = {}\n",
    "    with open('MNIST/train-images.idx3-ubyte', 'rb') as f:\n",
    "        magic, size, rows, cols = struct.unpack(\">IIII\", f.read(16))\n",
    "        assert(magic==2051)\n",
    "        ret['X_train'] = np.array(array(\"B\", f.read())).reshape(size,rows,cols)\n",
    "\n",
    "    with open('MNIST/t10k-images.idx3-ubyte', 'rb') as f:\n",
    "        magic, size, rows, cols = struct.unpack(\">IIII\", f.read(16))\n",
    "        assert(magic==2051)\n",
    "        ret['X_test'] = np.array(array(\"B\", f.read())).reshape(size,rows,cols)\n",
    "\n",
    "    with open('MNIST/train-labels.idx1-ubyte', 'rb') as f:\n",
    "        magic, size = struct.unpack(\">II\", f.read(8))\n",
    "        assert(magic==2049)\n",
    "        ret['Y_train'] = np.array(array(\"B\", f.read())).reshape(size,1)\n",
    "\n",
    "    with open('MNIST/t10k-labels.idx1-ubyte', 'rb') as f:\n",
    "        magic, size = struct.unpack(\">II\", f.read(8))\n",
    "        assert(magic==2049)\n",
    "        ret['Y_test'] = np.array(array(\"B\", f.read())).reshape(size,1)\n",
    "\n",
    "    return ret"
   ]
  },
  {
   "cell_type": "code",
   "execution_count": 4,
   "metadata": {},
   "outputs": [
    {
     "name": "stdout",
     "output_type": "stream",
     "text": [
      "X_train: (50000, 28, 28) X_dev: (10000, 28, 28) X_test: (10000, 28, 28)\n",
      "Y_train: (50000, 1) Y_dev: (10000, 1) Y_test: (10000, 1)\n"
     ]
    }
   ],
   "source": [
    "mnist_original = load_mnist()\n",
    "\n",
    "\"\"\" random shuffle the training set \"\"\"\n",
    "np.random.seed(1)\n",
    "permutation = np.random.permutation(mnist_original['X_train'].shape[0])\n",
    "mnist_original['X_train'] = mnist_original['X_train'][permutation]\n",
    "mnist_original['Y_train'] = mnist_original['Y_train'][permutation]\n",
    "\n",
    "\"\"\" divide trainset into trainset and devset \"\"\"\n",
    "len_of_dev = 10000\n",
    "mnist_original['X_dev'] = mnist_original['X_train'][:len_of_dev]\n",
    "mnist_original['Y_dev'] = mnist_original['Y_train'][:len_of_dev]\n",
    "mnist_original['X_train'] = mnist_original['X_train'][len_of_dev:]\n",
    "mnist_original['Y_train'] = mnist_original['Y_train'][len_of_dev:]\n",
    "\n",
    "print('X_train:', mnist_original['X_train'].shape,\n",
    "      'X_dev:', mnist_original['X_dev'].shape,\n",
    "      'X_test:', mnist_original['X_test'].shape)\n",
    "print('Y_train:', mnist_original['Y_train'].shape,\n",
    "      'Y_dev:', mnist_original['Y_dev'].shape,\n",
    "      'Y_test:', mnist_original['Y_test'].shape)"
   ]
  },
  {
   "cell_type": "code",
   "execution_count": 5,
   "metadata": {
    "collapsed": true,
    "scrolled": true
   },
   "outputs": [],
   "source": [
    "def manually_validate_dataset(dataset):\n",
    "    random_train = np.random.randint(1, len(dataset['X_train']))-1\n",
    "    random_dev = np.random.randint(1, len(dataset['X_dev']))-1\n",
    "    random_test = np.random.randint(1, len(dataset['X_test']))-1\n",
    "    print(dataset['Y_train'][random_train], dataset['Y_dev'][random_dev], dataset['Y_test'][random_test])\n",
    "    fig, (ax1, ax2, ax3) = plt.subplots(1,3, sharey=True, figsize=[10,3])\n",
    "    ax1.imshow(dataset['X_train'][random_train], cmap='gray')\n",
    "    ax2.imshow(dataset['X_dev'][random_dev], cmap='gray')\n",
    "    ax3.imshow(dataset['X_test'][random_test], cmap='gray')\n",
    "    plt.show()\n",
    "\n",
    "#manually_validate_dataset(mnist_original)"
   ]
  },
  {
   "cell_type": "markdown",
   "metadata": {},
   "source": [
    "$$ X = \n",
    "\\begin{bmatrix}\n",
    "\\vert & & \\vert & & \\vert \\\\\n",
    "x^{(1)} & ... & x^{(i)} & ... & x^{(m)} \\\\\n",
    "\\vert & & \\vert & & \\vert\n",
    "\\end{bmatrix} \n",
    "\\quad \\quad\n",
    "Y = \n",
    "\\begin{bmatrix}\n",
    "\\vert & & \\vert & & \\vert \\\\\n",
    "y_{one\\_hot}^{(1)} & ... & y_{one\\_hot}^{(i)} & ... & y_{one\\_hot}^{(m)} \\\\\n",
    "\\vert & & \\vert & & \\vert \\\\\n",
    "\\end{bmatrix}\n",
    "$$"
   ]
  },
  {
   "cell_type": "code",
   "execution_count": 6,
   "metadata": {},
   "outputs": [
    {
     "name": "stdout",
     "output_type": "stream",
     "text": [
      "(784, 50000) (10, 50000)\n"
     ]
    }
   ],
   "source": [
    "mnist = {}\n",
    "\n",
    "\"\"\" X is 28*28 image \"\"\"\n",
    "def flatten(X):\n",
    "    \"\"\" prepare X to (nx, m) shape \"\"\"\n",
    "    X = X.reshape(-1, 28*28).T\n",
    "    return X\n",
    "\n",
    "def normalize(X):\n",
    "    u = 0\n",
    "    sigma = 255\n",
    "    return (X-u) / sigma\n",
    "\n",
    "mnist['X_train'] = normalize(flatten(mnist_original['X_train']))\n",
    "mnist['X_dev'] = normalize(flatten(mnist_original['X_dev']))\n",
    "mnist['X_test'] = normalize(flatten(mnist_original['X_test']))\n",
    "\n",
    "\"\"\" Y is label 0-9 \"\"\"\n",
    "def one_hot(Y, C):\n",
    "    \"\"\" prepare Y to (1, m) shape \"\"\"\n",
    "    assert(Y.shape[1]==1)\n",
    "    Y_ret = np.zeros((Y.shape[0], C))\n",
    "    Y_ret[np.arange(Y.shape[0]), Y.reshape(-1).astype(int)] = 1\n",
    "    Y_ret = Y_ret.T\n",
    "    return Y_ret\n",
    "\n",
    "def back_one_hot(Y):\n",
    "    \"\"\" convert one hot Y back to real number \"\"\"\n",
    "    Y_ret = np.repeat( [np.arange(Y.shape[0])], repeats=Y.shape[1], axis=0 )\n",
    "    assert(Y_ret.shape == Y.T.shape)\n",
    "    Y_ret = Y_ret[Y.T.astype(bool)]\n",
    "    return Y_ret.reshape(-1,1)\n",
    "\n",
    "mnist['Y_train'] = one_hot(mnist_original['Y_train'], 10)\n",
    "mnist['Y_dev'] = one_hot(mnist_original['Y_dev'], 10)\n",
    "mnist['Y_test'] = one_hot(mnist_original['Y_test'], 10)\n",
    "\n",
    "print(mnist['X_train'].shape, mnist['Y_train'].shape)"
   ]
  },
  {
   "cell_type": "code",
   "execution_count": 7,
   "metadata": {
    "collapsed": true
   },
   "outputs": [],
   "source": [
    "\"\"\" init cache, parameters and hyper_parameters \"\"\"\n",
    "def init(X_size, hidden_layers=[10,10,5], C=10, learning_rate=0.01):\n",
    "    global cache, parameters, hyper_parameters\n",
    "    cache = {}\n",
    "    parameters = {}\n",
    "    hyper_parameters = {}\n",
    "    initialize_hyper_parameters(X_size, hidden_layers, C, learning_rate)\n",
    "    initialize_parameters()\n",
    "\n",
    "def initialize_hyper_parameters(X_size, hidden_layers, C, learning_rate):\n",
    "    global hyper_parameters\n",
    "    hyper_parameters['X_size'] = X_size\n",
    "    # layers of network, include the last softmax layer\n",
    "    # hidden layers use ReLU activation function, and the last layer use Softmax function\n",
    "    hyper_parameters['layers'] = hidden_layers + [C]\n",
    "    # L layers in total\n",
    "    hyper_parameters['L'] = len(hyper_parameters['layers'])\n",
    "    # Class numbers 0-9 is 10\n",
    "    hyper_parameters['C'] = C\n",
    "    hyper_parameters['learning_rate'] = learning_rate\n",
    "\n",
    "def initialize_parameters():\n",
    "    \"\"\" init W b or any other parameters in every layer \"\"\"\n",
    "    global parameters, hyper_parameters\n",
    "    layers = hyper_parameters['layers']\n",
    "    x_size = hyper_parameters['X_size']\n",
    "    cells_prev = x_size\n",
    "    for layer_idx, cells in enumerate(layers):\n",
    "        parameters['W'+str(layer_idx+1)] = np.random.randn(cells, cells_prev) * 0.01\n",
    "        parameters['b'+str(layer_idx+1)] = np.zeros((cells, 1))\n",
    "        cells_prev = layers[layer_idx]"
   ]
  },
  {
   "cell_type": "markdown",
   "metadata": {},
   "source": [
    "$$\n",
    "ReLu = max(0, x)\n",
    "\\quad \\quad\n",
    "Softmax = \\frac{\\exp(Z)}{\\sum_i^n{\\exp(Z)}}\n",
    "$$\n",
    "\n",
    "$$\n",
    "Z = W X + b\n",
    "\\quad \\quad\n",
    "A = active(Z)\n",
    "$$"
   ]
  },
  {
   "cell_type": "code",
   "execution_count": 8,
   "metadata": {},
   "outputs": [],
   "source": [
    "def ReLU(X):\n",
    "    return X * (X > 0)\n",
    "\n",
    "def softmax(X):\n",
    "    s = np.sum(np.exp(X), axis=0)\n",
    "    return np.exp(X) / s\n",
    "\n",
    "def forward_propagation_each_layer(W, A_prev, b, activation_function=ReLU):\n",
    "    Z = np.dot(W, A_prev) + b\n",
    "    A = activation_function(Z)\n",
    "    return Z,A"
   ]
  },
  {
   "cell_type": "markdown",
   "metadata": {},
   "source": [
    "This is logistic regression loss:\n",
    "$$\n",
    "L(\\hat{y}, y) = -\\frac{1}{m} \\sum_i^m{(y_i\\log(\\hat{y}_i) + (1-y_i)\\log(1-\\hat{y}_i))}\n",
    "$$"
   ]
  },
  {
   "cell_type": "markdown",
   "metadata": {},
   "source": [
    "This is multi-class classification loss:\n",
    "$$\n",
    "L(\\hat{y}, y) = -\\frac{1}{m} \\sum_i^m \\sum_j^C (y_j^{(i)}\\log(\\hat{y}_j^{(i)}))\n",
    "$$\n",
    "where m is batch size, C is class number (10 classes), (i) is the i-th example, j is the vertical bit of result."
   ]
  },
  {
   "cell_type": "code",
   "execution_count": 9,
   "metadata": {
    "collapsed": true
   },
   "outputs": [],
   "source": [
    "def loss(Y_hat, Y):\n",
    "    A = np.multiply(Y, np.log(Y_hat))\n",
    "    B = np.multiply(1-Y, np.log(1-Y_hat))\n",
    "    Loss = -A-B\n",
    "    #why not use Loss = -np.sum(A+B) / m?\n",
    "    return Loss\n",
    "\n",
    "def cost(loss):\n",
    "    return np.mean(loss)"
   ]
  },
  {
   "cell_type": "code",
   "execution_count": 10,
   "metadata": {
    "collapsed": true
   },
   "outputs": [],
   "source": [
    "def predict(Y_hat):\n",
    "    return np.argmax(Y_hat,axis=0).reshape(-1,1)\n",
    "\n",
    "def accuracy(Y_predict, Y):\n",
    "    return np.sum(np.equal(Y_predict, back_one_hot(Y))) / Y_predict.shape[0]"
   ]
  },
  {
   "cell_type": "markdown",
   "metadata": {},
   "source": [
    "# This formula is wrong, This is the logistic regression(binary classifier) Loss\n",
    "\n",
    "\n",
    "We already know L formula above:\n",
    "$$\n",
    "L = -\\frac{1}{m} \\sum_i^{m}[y^{(i)} log(\\hat{y}^{(i)}) + (1-y^{(i)}) log(1-\\hat{y}^{(i)})]\n",
    "$$\n",
    "\n",
    "$$\n",
    "A^{[L]} = \\hat{Y} = \n",
    "\\begin{bmatrix}\n",
    "\\hat{y}^{(1)} & ... & \\hat{y}^{(m)} \n",
    "\\end{bmatrix}\n",
    "\\quad, \\quad\n",
    "Y =\n",
    "\\begin{bmatrix}\n",
    "y^{(1)} & ... & y^{(m)}\n",
    "\\end{bmatrix}\n",
    "$$\n",
    "\n",
    "So:\n",
    "$$\n",
    "\"dAL\" = \\frac{\\partial L}{\\partial A^{[L]}}\n",
    "= - \\frac{1}{m} ( \\frac{Y}{A^{[L]}} - \\frac{1-Y}{1-A^{[L]}} )\n",
    "= \\frac{A^{[L]}-Y}{m A^{[L]}(1-A^{[L]})}\n",
    "$$"
   ]
  },
  {
   "cell_type": "code",
   "execution_count": 11,
   "metadata": {
    "scrolled": false
   },
   "outputs": [],
   "source": [
    "def backpropagate_cost(Y, AL):\n",
    "    #m = Y.shape[1] #why not 1/m?\n",
    "    #dAL = -np.divide(Y, AL) #why not use this formula?\n",
    "    dAL = - (np.divide(Y, AL) - np.divide(1 - Y, 1 - AL))\n",
    "    return dAL"
   ]
  },
  {
   "cell_type": "markdown",
   "metadata": {},
   "source": [
    "$$\n",
    "\"dZL\"\n",
    "= \\frac{\\partial L}{\\partial Z^{[L]}}\n",
    "= \\frac{\\partial L}{\\partial A^{[L]}} \\frac{\\partial A^{[L]}}{\\partial Z^{[L]}}\n",
    "= \"dAL\" * \\frac{\\partial A^{[L]}}{\\partial Z^{[L]}}\n",
    "$$\n",
    "$$\n",
    "\\frac{\\partial A^{[L]}}{\\partial Z^{[L]}}\n",
    "= A^{[L]} - (A^{[L]})^{2}\n",
    "$$\n",
    "$$\n",
    "\"dZL\" = \"dAL\" * (\"AL\" - \"AL\"^{2})\n",
    "$$"
   ]
  },
  {
   "cell_type": "code",
   "execution_count": 12,
   "metadata": {},
   "outputs": [],
   "source": [
    "def backpropagate_softmax(AL, dAL, Y=None, ZL=None):\n",
    "    dZ = np.multiply(dAL, (AL-np.power(AL,2)))\n",
    "    return dZ"
   ]
  },
  {
   "cell_type": "markdown",
   "metadata": {},
   "source": [
    "$$\n",
    "\\because\n",
    "$$\n",
    "\n",
    "$$\n",
    "Z^{[l]} = W^{[l]} * A^{[l-1]} + b^{[l]}\n",
    "$$\n",
    "\n",
    "$$\n",
    "\"dZ\" = \\frac{\\partial L}{\\partial Z^{[l]}}\n",
    "$$\n",
    "\n",
    "$$\n",
    "\\therefore\n",
    "$$\n",
    "\n",
    "$$\n",
    "\"dA\\_prev\" \n",
    "= \\frac{\\partial L}{\\partial A^{[l-1]}}\n",
    "= \\frac{\\partial L}{\\partial Z^{[l]}} \\frac{\\partial Z^{[l]}}{\\partial A^{[l-1]}}\n",
    "= \"dZ\" * W^{[l]}\n",
    "$$\n",
    "\n",
    "$$\n",
    "\"dW\"\n",
    "= \\frac{\\partial L}{\\partial W^{[l]}}\n",
    "= \\frac{\\partial L}{\\partial Z^{[l]}} \\frac{\\partial Z^{[l]}}{\\partial W^{[l]}}\n",
    "= \"dZ\" * A^{[l-1]}\n",
    "$$\n",
    "\n",
    "$$\n",
    "\"db\"\n",
    "= \\frac{\\partial L}{\\partial b^{[l]}}\n",
    "= \\frac{\\partial L}{\\partial Z^{[l]}} \\frac{\\partial Z^{[l]}}{\\partial b^{[l]}}\n",
    "= \"dZ\" * 1\n",
    "$$"
   ]
  },
  {
   "cell_type": "code",
   "execution_count": 13,
   "metadata": {
    "collapsed": true
   },
   "outputs": [],
   "source": [
    "def backpropagate_linear(dZ, W, A_prev):\n",
    "    m = dZ.shape[1] # I still don't know why move 1/m here from backpropagate_cost.\n",
    "    dA_prev = np.dot(W.T, dZ)\n",
    "    dW = 1/m * np.dot(dZ, A_prev.T)\n",
    "    db = 1/m * np.sum(dZ, axis=1).reshape(-1,1)\n",
    "    return dA_prev, dW, db"
   ]
  },
  {
   "cell_type": "markdown",
   "metadata": {},
   "source": [
    "$$\n",
    "\\because\n",
    "$$\n",
    "\n",
    "$$\n",
    "A^{[l]} = ReLU(Z^{[l]}) = max(0, Z^{[l]})\n",
    "$$\n",
    "\n",
    "$$\n",
    "\\therefore\n",
    "$$\n",
    "\n",
    "$$\n",
    "\"dZ\"\n",
    "= \\frac{\\partial L}{\\partial Z^{[l]}}\n",
    "= \\frac{\\partial L}{\\partial A^{[l]}} \\frac{\\partial A^{[l]}}{\\partial Z^{[l]}}\n",
    "= \"dA\" * ReLU^{-1}(Z^{[l]})\n",
    "= \"dA\" * \n",
    "\\begin{bmatrix}\n",
    "1 (z \\geq 0)\\\\\n",
    "0 (z < 0)\n",
    "\\end{bmatrix}\n",
    "$$"
   ]
  },
  {
   "cell_type": "code",
   "execution_count": 14,
   "metadata": {
    "scrolled": true
   },
   "outputs": [],
   "source": [
    "def backpropagate_ReLU(dA, Z):\n",
    "    return np.multiply(dA, (Z>=0).astype(np.float32))"
   ]
  },
  {
   "cell_type": "code",
   "execution_count": 15,
   "metadata": {
    "collapsed": true
   },
   "outputs": [],
   "source": [
    "\"\"\" neural network logic level \"\"\"\n",
    "\n",
    "def forwardpropagation_all(X):\n",
    "    global cache, parameters, hyper_parameters\n",
    "    layers = hyper_parameters['layers']\n",
    "    A_prev = X\n",
    "    for layer_idx, cells in enumerate(layers):\n",
    "        W = parameters['W'+str(layer_idx+1)]\n",
    "        b = parameters['b'+str(layer_idx+1)]\n",
    "        if layer_idx==len(layers)-1:\n",
    "            # Last layer's activation function should be softmax\n",
    "            Z, A = forward_propagation_each_layer(W, A_prev, b, softmax)\n",
    "        else:\n",
    "            Z, A = forward_propagation_each_layer(W, A_prev, b)\n",
    "        cache['Z'+str(layer_idx+1)] = Z\n",
    "        cache['A'+str(layer_idx+1)] = A\n",
    "        A_prev = A\n",
    "\n",
    "def backpropagate_all(X, Y):\n",
    "    global mnist, cache, parameters, hyper_parameters\n",
    "    # 1. Last layer has coss function and softmax function\n",
    "    L = str(hyper_parameters['L'])\n",
    "    cache['dA'+L] = backpropagate_cost(Y,cache['A'+L])\n",
    "    AL = cache['A'+L]\n",
    "    dAL = cache['dA'+L]\n",
    "    cache['dZ'+L] = backpropagate_softmax(AL, dAL)\n",
    "\n",
    "    # 2. Layers in between are similar: linear and ReLU\n",
    "    for i in np.arange(start=hyper_parameters['L']-1, stop=0, step=-1):\n",
    "        L = str(i)\n",
    "        cache['dA'+L], cache['dW'+str(i+1)], cache['db'+str(i+1)] = backpropagate_linear(cache['dZ'+str(i+1)], \n",
    "                                                                           parameters['W'+str(i+1)], \n",
    "                                                                           cache['A'+L])\n",
    "        cache['dZ'+L] = backpropagate_ReLU(cache['dA'+L], cache['Z'+L])\n",
    "\n",
    "    # 3. First layer has different parameter.\n",
    "    _, cache['dW1'], cache['db1'] = backpropagate_linear(cache['dZ1'], parameters['W1'], X)\n",
    "\n",
    "def update_parameters():\n",
    "    global cache, parameters\n",
    "    for i in range(hyper_parameters['L']):\n",
    "        L = str(i+1)\n",
    "        parameters['W'+L] -= cache['dW'+L] * hyper_parameters['learning_rate']\n",
    "        parameters['b'+L] -= cache['db'+L] * hyper_parameters['learning_rate']"
   ]
  },
  {
   "cell_type": "code",
   "execution_count": 18,
   "metadata": {
    "scrolled": false
   },
   "outputs": [
    {
     "name": "stdout",
     "output_type": "stream",
     "text": [
      "0 > training error =  0.325000638609 ; accu = 0.15625\n",
      "30 > training error =  0.316938782974 ; accu = 0.1796875\n",
      "60 > training error =  0.291045093358 ; accu = 0.203125\n",
      "90 > training error =  0.224817473317 ; accu = 0.4609375\n",
      "120 > training error =  0.143926714829 ; accu = 0.8515625\n",
      "150 > training error =  0.0824082807758 ; accu = 0.953125\n",
      "180 > training error =  0.046768492164 ; accu = 0.9765625\n",
      "210 > training error =  0.0272478887268 ; accu = 0.9921875\n",
      "240 > training error =  0.0165749803639 ; accu = 1.0\n",
      "270 > training error =  0.0108118323484 ; accu = 1.0\n"
     ]
    },
    {
     "data": {
      "image/png": "[encoded data removed]",
      "text/plain": [
       "<matplotlib.figure.Figure at 0x7fc1b765fc18>"
      ]
     },
     "metadata": {},
     "output_type": "display_data"
    }
   ],
   "source": [
    "def model(X, Y, learning_rate=0.01, print_every=100, iteration=500, hidden_layers=[100], batch_size=128):\n",
    "    init(hidden_layers=hidden_layers, C=Y.shape[0], X_size=X.shape[0], learning_rate=learning_rate)\n",
    "    # costs will be returned for plotting\n",
    "    costs = []\n",
    "    X_full = X\n",
    "    Y_full = Y\n",
    "    np.random.seed(1)\n",
    "    for i in range(iteration):\n",
    "        permutation = np.random.permutation(X.shape[1])\n",
    "        X = X_full[:, permutation]\n",
    "        X = X[:, :batch_size]\n",
    "        Y = Y_full[:, permutation]\n",
    "        Y = Y[:, :batch_size]\n",
    "        \n",
    "        forwardpropagation_all(X)\n",
    "        Y_hat = cache['A'+str(hyper_parameters['L'])]\n",
    "        cost_value = cost(loss(Y_hat, Y))\n",
    "        costs.append(cost_value)\n",
    "        if i%print_every==0:\n",
    "            Y_predict = predict(Y_hat)\n",
    "            accu = accuracy(Y_predict, Y)\n",
    "            print(i,'> training error = ',cost_value,'; accu =',accu)\n",
    "        backpropagate_all(X, Y)\n",
    "        update_parameters()\n",
    "        if np.isnan(cost_value):\n",
    "            print(\"ERROR to nan!!!\")\n",
    "            break\n",
    "    return costs\n",
    "\n",
    "def test_model():\n",
    "    m = 10\n",
    "    X = np.random.randn(784,m)\n",
    "    Y = one_hot(np.random.randint(low=0, high=10, size=(m,1)), C=10)\n",
    "    #print(X[:,1])\n",
    "    #print(Y[:,1])\n",
    "    costs = model(X,Y,learning_rate=0.1, print_every=10, iteration=100,\n",
    "                 hidden_layers=[10,10])\n",
    "    plt.plot(costs)\n",
    "    plt.show()\n",
    "def test_model_1():\n",
    "    costs = model(mnist['X_train'], mnist['Y_train'], \n",
    "                  learning_rate=0.1, print_every=30, iteration=300,\n",
    "                  batch_size=128,\n",
    "                  hidden_layers=[784,1000])\n",
    "    plt.plot(costs)\n",
    "    plt.show()\n",
    "\n",
    "test_model_1()\n",
    "#model(mnist['X_train'], mnist['Y_train'])"
   ]
  },
  {
   "cell_type": "code",
   "execution_count": 17,
   "metadata": {},
   "outputs": [
    {
     "name": "stdout",
     "output_type": "stream",
     "text": [
      "cache: [('A1', (784, 128)),\n",
      " ('A2', (1000, 128)),\n",
      " ('A3', (10, 128)),\n",
      " ('Z1', (784, 128)),\n",
      " ('Z2', (1000, 128)),\n",
      " ('Z3', (10, 128)),\n",
      " ('dA1', (784, 128)),\n",
      " ('dA2', (1000, 128)),\n",
      " ('dA3', (10, 128)),\n",
      " ('dW1', (784, 784)),\n",
      " ('dW2', (1000, 784)),\n",
      " ('dW3', (10, 1000)),\n",
      " ('dZ1', (784, 128)),\n",
      " ('dZ2', (1000, 128)),\n",
      " ('dZ3', (10, 128)),\n",
      " ('db1', (784, 1)),\n",
      " ('db2', (1000, 1)),\n",
      " ('db3', (10, 1))]\n",
      "parameters: [('W1', (784, 784)),\n",
      " ('W2', (1000, 784)),\n",
      " ('W3', (10, 1000)),\n",
      " ('b1', (784, 1)),\n",
      " ('b2', (1000, 1)),\n",
      " ('b3', (10, 1))]\n",
      "hyper_parameters: ['C', 'L', 'X_size', 'layers', 'learning_rate']\n"
     ]
    }
   ],
   "source": [
    "debug_show_all_variables()"
   ]
  },
  {
   "cell_type": "code",
   "execution_count": null,
   "metadata": {
    "collapsed": true
   },
   "outputs": [],
   "source": []
  }
 ],
 "metadata": {
  "kernelspec": {
   "display_name": "Python [conda root]",
   "language": "python",
   "name": "conda-root-py"
  },
  "language_info": {
   "codemirror_mode": {
    "name": "ipython",
    "version": 3
   },
   "file_extension": ".py",
   "mimetype": "text/x-python",
   "name": "python",
   "nbconvert_exporter": "python",
   "pygments_lexer": "ipython3",
   "version": "3.5.2"
  }
 },
 "nbformat": 4,
 "nbformat_minor": 2
}
