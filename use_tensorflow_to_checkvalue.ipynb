{
 "cells": [
  {
   "cell_type": "code",
   "execution_count": 4,
   "metadata": {
    "collapsed": true
   },
   "outputs": [],
   "source": [
    "import tensorflow as tf\n",
    "import numpy as np"
   ]
  },
  {
   "cell_type": "code",
   "execution_count": 29,
   "metadata": {},
   "outputs": [
    {
     "name": "stdout",
     "output_type": "stream",
     "text": [
      "[[ 1.  2.  3.  4.]\n",
      " [ 2.  2.  3.  4.]\n",
      " [ 5.  5.  5.  4.]]\n",
      "[[ 0.01714783  0.0452785   0.10650698 -0.66666667]\n",
      " [ 0.04661262  0.0452785   0.10650698  0.33333333]\n",
      " [-0.06376045 -0.090557   -0.21301396  0.33333333]]\n"
     ]
    }
   ],
   "source": [
    "z = np.array([[1.,2,3,4],[2,2,3,4],[5,5,5,4]]).T\n",
    "print(z.T)\n",
    "y = np.array([[0.,0,1],[0,0,1],[0,0,1],[1,0,0]])\n",
    "Z = tf.constant(z)\n",
    "Y = tf.constant(y)\n",
    "cost = tf.nn.softmax_cross_entropy_with_logits(logits=Z, labels=Y)\n",
    "\n",
    "D = tf.gradients(cost, Z)\n",
    "with tf.Session() as s:\n",
    "    a = np.array(s.run(D)).T.reshape(3,4)\n",
    "    \n",
    "print(a)\n"
   ]
  },
  {
   "cell_type": "code",
   "execution_count": 13,
   "metadata": {},
   "outputs": [
    {
     "name": "stdout",
     "output_type": "stream",
     "text": [
      "(4, 3)\n"
     ]
    },
    {
     "data": {
      "text/plain": [
       "array([[ 1.,  0.,  3.,  4.],\n",
       "       [ 2.,  0.,  0.,  4.],\n",
       "       [ 5.,  0.,  5.,  0.]])"
      ]
     },
     "execution_count": 13,
     "metadata": {},
     "output_type": "execute_result"
    }
   ],
   "source": [
    "tf.reset_default_graph()\n",
    "z = np.array([[1.,-2,3,4],[2,-2,-3,4],[5,-5,5,-4]]).T\n",
    "Z = tf.constant(z)\n",
    "A = tf.nn.relu(Z)\n",
    "\n",
    "with tf.Session() as s:\n",
    "    a = s.run(A)\n",
    "    \n",
    "print(a.shape)\n",
    "a.T\n"
   ]
  }
 ],
 "metadata": {
  "kernelspec": {
   "display_name": "Python [conda root]",
   "language": "python",
   "name": "conda-root-py"
  },
  "language_info": {
   "codemirror_mode": {
    "name": "ipython",
    "version": 3
   },
   "file_extension": ".py",
   "mimetype": "text/x-python",
   "name": "python",
   "nbconvert_exporter": "python",
   "pygments_lexer": "ipython3",
   "version": "3.5.2"
  }
 },
 "nbformat": 4,
 "nbformat_minor": 2
}
